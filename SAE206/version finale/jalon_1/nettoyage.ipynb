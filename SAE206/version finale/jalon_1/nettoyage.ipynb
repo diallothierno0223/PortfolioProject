{
 "cells": [
  {
   "cell_type": "markdown",
   "id": "7d48b009-e0d2-4dfe-bbaa-cda648f99cf7",
   "metadata": {},
   "source": [
    "# IMPORTATION DES MODULE NECESSAIRE"
   ]
  },
  {
   "cell_type": "code",
   "execution_count": 1,
   "id": "adb2c711-3bc1-4e65-9974-de755c45f0fa",
   "metadata": {},
   "outputs": [],
   "source": [
    "import pandas as pd \n",
    "import numpy as np"
   ]
  },
  {
   "cell_type": "code",
   "execution_count": 2,
   "id": "5dfc6cce-2d07-47a6-93ce-5c309c8a05e1",
   "metadata": {},
   "outputs": [],
   "source": [
    "# desactivation des Warning\n",
    "import warnings\n",
    "warnings.filterwarnings(\"ignore\")\n"
   ]
  },
  {
   "cell_type": "markdown",
   "id": "8822c507-a94f-43ad-bee2-000e60bb5ae4",
   "metadata": {},
   "source": [
    "# Recuperartion du nom des villes avec le code geo"
   ]
  },
  {
   "cell_type": "code",
   "execution_count": null,
   "id": "8e2f64eb-b859-4a31-8a1f-8c73e332c7dc",
   "metadata": {},
   "outputs": [],
   "source": [
    "#lecture file \n",
    "meta_data = pd.read_csv(\"meta_dossier_complet.csv\", sep  = \";\", encoding = \"utf8\")\n",
    "\n",
    "#recuperation des colonnes\n",
    "cod_geo = meta_data[meta_data['COD_VAR'] == \"CODGEO\"][[\"COD_MOD\", \"LIB_MOD\"]]\n",
    "cod_geo.drop_duplicates(subset = 'COD_MOD', inplace = True)\n",
    "\n",
    "# enregistrement des donnée recuperer dans des fichier csv\n",
    "cod_geo.to_csv(\"codegeo.csv\", index = False)"
   ]
  },
  {
   "cell_type": "markdown",
   "id": "4d26acf2-9d73-43f2-b32d-d98e880d8db7",
   "metadata": {},
   "source": [
    "# NETTOYAGE DE DATA (fichier principale)"
   ]
  },
  {
   "cell_type": "markdown",
   "id": "bf11ef09-b0d0-485d-9949-a7de53a08759",
   "metadata": {},
   "source": [
    "## lecture du fichier \"dossier_complet.csv\""
   ]
  },
  {
   "cell_type": "code",
   "execution_count": 3,
   "id": "af20fd94-e87d-4df1-bcee-747e1ec26999",
   "metadata": {},
   "outputs": [
    {
     "data": {
      "text/html": [
       "<div>\n",
       "<style scoped>\n",
       "    .dataframe tbody tr th:only-of-type {\n",
       "        vertical-align: middle;\n",
       "    }\n",
       "\n",
       "    .dataframe tbody tr th {\n",
       "        vertical-align: top;\n",
       "    }\n",
       "\n",
       "    .dataframe thead th {\n",
       "        text-align: right;\n",
       "    }\n",
       "</style>\n",
       "<table border=\"1\" class=\"dataframe\">\n",
       "  <thead>\n",
       "    <tr style=\"text-align: right;\">\n",
       "      <th></th>\n",
       "      <th>CODGEO</th>\n",
       "      <th>P20_POP</th>\n",
       "      <th>P20_POP0014</th>\n",
       "      <th>P20_POP1529</th>\n",
       "      <th>P20_POP3044</th>\n",
       "      <th>P20_POP4559</th>\n",
       "      <th>P20_POP6074</th>\n",
       "      <th>P20_POP7589</th>\n",
       "      <th>P20_POP90P</th>\n",
       "      <th>P20_POPH</th>\n",
       "      <th>...</th>\n",
       "      <th>CPGEO524</th>\n",
       "      <th>VV24</th>\n",
       "      <th>VVUH24</th>\n",
       "      <th>VVLIT24</th>\n",
       "      <th>RT24</th>\n",
       "      <th>RTUH24</th>\n",
       "      <th>RTLIT24</th>\n",
       "      <th>AJCS24</th>\n",
       "      <th>AJCSUH24</th>\n",
       "      <th>AJCSLIT24</th>\n",
       "    </tr>\n",
       "  </thead>\n",
       "  <tbody>\n",
       "    <tr>\n",
       "      <th>0</th>\n",
       "      <td>01001</td>\n",
       "      <td>806.0</td>\n",
       "      <td>155.306150</td>\n",
       "      <td>97.169380</td>\n",
       "      <td>148.761022</td>\n",
       "      <td>191.372049</td>\n",
       "      <td>143.616249</td>\n",
       "      <td>64.277500</td>\n",
       "      <td>5.497650</td>\n",
       "      <td>410.480215</td>\n",
       "      <td>...</td>\n",
       "      <td>0.0</td>\n",
       "      <td>0.0</td>\n",
       "      <td>0.0</td>\n",
       "      <td>0.0</td>\n",
       "      <td>0.0</td>\n",
       "      <td>0.0</td>\n",
       "      <td>0.0</td>\n",
       "      <td>0.0</td>\n",
       "      <td>0.0</td>\n",
       "      <td>0.0</td>\n",
       "    </tr>\n",
       "    <tr>\n",
       "      <th>1</th>\n",
       "      <td>01002</td>\n",
       "      <td>262.0</td>\n",
       "      <td>57.242248</td>\n",
       "      <td>33.095709</td>\n",
       "      <td>56.756395</td>\n",
       "      <td>56.376187</td>\n",
       "      <td>38.184730</td>\n",
       "      <td>18.601713</td>\n",
       "      <td>1.743019</td>\n",
       "      <td>137.369209</td>\n",
       "      <td>...</td>\n",
       "      <td>0.0</td>\n",
       "      <td>0.0</td>\n",
       "      <td>0.0</td>\n",
       "      <td>0.0</td>\n",
       "      <td>0.0</td>\n",
       "      <td>0.0</td>\n",
       "      <td>0.0</td>\n",
       "      <td>0.0</td>\n",
       "      <td>0.0</td>\n",
       "      <td>0.0</td>\n",
       "    </tr>\n",
       "    <tr>\n",
       "      <th>2</th>\n",
       "      <td>01004</td>\n",
       "      <td>14288.0</td>\n",
       "      <td>2649.807321</td>\n",
       "      <td>3027.794160</td>\n",
       "      <td>2691.337871</td>\n",
       "      <td>2427.065245</td>\n",
       "      <td>2169.634700</td>\n",
       "      <td>1131.402296</td>\n",
       "      <td>190.958407</td>\n",
       "      <td>6880.642235</td>\n",
       "      <td>...</td>\n",
       "      <td>0.0</td>\n",
       "      <td>0.0</td>\n",
       "      <td>0.0</td>\n",
       "      <td>0.0</td>\n",
       "      <td>1.0</td>\n",
       "      <td>16.0</td>\n",
       "      <td>16.0</td>\n",
       "      <td>0.0</td>\n",
       "      <td>0.0</td>\n",
       "      <td>0.0</td>\n",
       "    </tr>\n",
       "    <tr>\n",
       "      <th>3</th>\n",
       "      <td>01005</td>\n",
       "      <td>1782.0</td>\n",
       "      <td>353.000000</td>\n",
       "      <td>273.000000</td>\n",
       "      <td>369.000000</td>\n",
       "      <td>387.000000</td>\n",
       "      <td>277.000000</td>\n",
       "      <td>113.000000</td>\n",
       "      <td>10.000000</td>\n",
       "      <td>893.000000</td>\n",
       "      <td>...</td>\n",
       "      <td>0.0</td>\n",
       "      <td>0.0</td>\n",
       "      <td>0.0</td>\n",
       "      <td>0.0</td>\n",
       "      <td>0.0</td>\n",
       "      <td>0.0</td>\n",
       "      <td>0.0</td>\n",
       "      <td>0.0</td>\n",
       "      <td>0.0</td>\n",
       "      <td>0.0</td>\n",
       "    </tr>\n",
       "    <tr>\n",
       "      <th>4</th>\n",
       "      <td>01006</td>\n",
       "      <td>113.0</td>\n",
       "      <td>9.912281</td>\n",
       "      <td>13.877193</td>\n",
       "      <td>19.824561</td>\n",
       "      <td>23.789474</td>\n",
       "      <td>37.666667</td>\n",
       "      <td>7.929825</td>\n",
       "      <td>0.000000</td>\n",
       "      <td>59.473684</td>\n",
       "      <td>...</td>\n",
       "      <td>0.0</td>\n",
       "      <td>0.0</td>\n",
       "      <td>0.0</td>\n",
       "      <td>0.0</td>\n",
       "      <td>0.0</td>\n",
       "      <td>0.0</td>\n",
       "      <td>0.0</td>\n",
       "      <td>0.0</td>\n",
       "      <td>0.0</td>\n",
       "      <td>0.0</td>\n",
       "    </tr>\n",
       "  </tbody>\n",
       "</table>\n",
       "<p>5 rows × 1883 columns</p>\n",
       "</div>"
      ],
      "text/plain": [
       "  CODGEO  P20_POP  P20_POP0014  P20_POP1529  P20_POP3044  P20_POP4559  \\\n",
       "0  01001    806.0   155.306150    97.169380   148.761022   191.372049   \n",
       "1  01002    262.0    57.242248    33.095709    56.756395    56.376187   \n",
       "2  01004  14288.0  2649.807321  3027.794160  2691.337871  2427.065245   \n",
       "3  01005   1782.0   353.000000   273.000000   369.000000   387.000000   \n",
       "4  01006    113.0     9.912281    13.877193    19.824561    23.789474   \n",
       "\n",
       "   P20_POP6074  P20_POP7589  P20_POP90P     P20_POPH  ...  CPGEO524  VV24  \\\n",
       "0   143.616249    64.277500    5.497650   410.480215  ...       0.0   0.0   \n",
       "1    38.184730    18.601713    1.743019   137.369209  ...       0.0   0.0   \n",
       "2  2169.634700  1131.402296  190.958407  6880.642235  ...       0.0   0.0   \n",
       "3   277.000000   113.000000   10.000000   893.000000  ...       0.0   0.0   \n",
       "4    37.666667     7.929825    0.000000    59.473684  ...       0.0   0.0   \n",
       "\n",
       "   VVUH24  VVLIT24  RT24  RTUH24  RTLIT24  AJCS24  AJCSUH24  AJCSLIT24  \n",
       "0     0.0      0.0   0.0     0.0      0.0     0.0       0.0        0.0  \n",
       "1     0.0      0.0   0.0     0.0      0.0     0.0       0.0        0.0  \n",
       "2     0.0      0.0   1.0    16.0     16.0     0.0       0.0        0.0  \n",
       "3     0.0      0.0   0.0     0.0      0.0     0.0       0.0        0.0  \n",
       "4     0.0      0.0   0.0     0.0      0.0     0.0       0.0        0.0  \n",
       "\n",
       "[5 rows x 1883 columns]"
      ]
     },
     "execution_count": 3,
     "metadata": {},
     "output_type": "execute_result"
    }
   ],
   "source": [
    "df = pd.read_csv(\"dossier_complet.csv\", sep=\";\", encoding=\"utf8\", low_memory = False)\n",
    "\n",
    "df.head()"
   ]
  },
  {
   "cell_type": "code",
   "execution_count": 4,
   "id": "473557c7-d5ef-457a-952e-cf44da4eed3f",
   "metadata": {},
   "outputs": [
    {
     "data": {
      "text/plain": [
       "(35001, 1883)"
      ]
     },
     "execution_count": 4,
     "metadata": {},
     "output_type": "execute_result"
    }
   ],
   "source": [
    "df.shape"
   ]
  },
  {
   "cell_type": "code",
   "execution_count": 13,
   "id": "9cfd8b54-0d76-41ab-9027-843b0ec29a5e",
   "metadata": {},
   "outputs": [
    {
     "data": {
      "text/html": [
       "<div>\n",
       "<style scoped>\n",
       "    .dataframe tbody tr th:only-of-type {\n",
       "        vertical-align: middle;\n",
       "    }\n",
       "\n",
       "    .dataframe tbody tr th {\n",
       "        vertical-align: top;\n",
       "    }\n",
       "\n",
       "    .dataframe thead th {\n",
       "        text-align: right;\n",
       "    }\n",
       "</style>\n",
       "<table border=\"1\" class=\"dataframe\">\n",
       "  <thead>\n",
       "    <tr style=\"text-align: right;\">\n",
       "      <th></th>\n",
       "      <th>CODGEO</th>\n",
       "      <th>P20_POP</th>\n",
       "      <th>P20_POP0014</th>\n",
       "      <th>P20_POP1529</th>\n",
       "      <th>P20_POP3044</th>\n",
       "      <th>P20_POP4559</th>\n",
       "      <th>P20_POP6074</th>\n",
       "      <th>P20_POP7589</th>\n",
       "      <th>P20_POP90P</th>\n",
       "      <th>P20_POPH</th>\n",
       "      <th>...</th>\n",
       "      <th>CPGEO524</th>\n",
       "      <th>VV24</th>\n",
       "      <th>VVUH24</th>\n",
       "      <th>VVLIT24</th>\n",
       "      <th>RT24</th>\n",
       "      <th>RTUH24</th>\n",
       "      <th>RTLIT24</th>\n",
       "      <th>AJCS24</th>\n",
       "      <th>AJCSUH24</th>\n",
       "      <th>AJCSLIT24</th>\n",
       "    </tr>\n",
       "  </thead>\n",
       "  <tbody>\n",
       "    <tr>\n",
       "      <th>4297</th>\n",
       "      <td>13009</td>\n",
       "      <td>845.0</td>\n",
       "      <td>135.048598</td>\n",
       "      <td>130.552836</td>\n",
       "      <td>147.660445</td>\n",
       "      <td>248.183115</td>\n",
       "      <td>135.65829</td>\n",
       "      <td>43.7848</td>\n",
       "      <td>4.111915</td>\n",
       "      <td>404.88215</td>\n",
       "      <td>...</td>\n",
       "      <td>0.0</td>\n",
       "      <td>0.0</td>\n",
       "      <td>0.0</td>\n",
       "      <td>0.0</td>\n",
       "      <td>0.0</td>\n",
       "      <td>0.0</td>\n",
       "      <td>0.0</td>\n",
       "      <td>0.0</td>\n",
       "      <td>0.0</td>\n",
       "      <td>0.0</td>\n",
       "    </tr>\n",
       "  </tbody>\n",
       "</table>\n",
       "<p>1 rows × 1883 columns</p>\n",
       "</div>"
      ],
      "text/plain": [
       "     CODGEO  P20_POP  P20_POP0014  P20_POP1529  P20_POP3044  P20_POP4559  \\\n",
       "4297  13009    845.0   135.048598   130.552836   147.660445   248.183115   \n",
       "\n",
       "      P20_POP6074  P20_POP7589  P20_POP90P   P20_POPH  ...  CPGEO524  VV24  \\\n",
       "4297    135.65829      43.7848    4.111915  404.88215  ...       0.0   0.0   \n",
       "\n",
       "      VVUH24  VVLIT24  RT24  RTUH24  RTLIT24  AJCS24  AJCSUH24  AJCSLIT24  \n",
       "4297     0.0      0.0   0.0     0.0      0.0     0.0       0.0        0.0  \n",
       "\n",
       "[1 rows x 1883 columns]"
      ]
     },
     "execution_count": 13,
     "metadata": {},
     "output_type": "execute_result"
    }
   ],
   "source": [
    "df[df['CODGEO'] == '13009']"
   ]
  },
  {
   "cell_type": "markdown",
   "id": "63d9f2f7-546a-4f95-baef-4aee78e7a9c6",
   "metadata": {},
   "source": [
    "## detection des valeurs vides (colonne et ligne)"
   ]
  },
  {
   "cell_type": "markdown",
   "id": "beb9751e-49d3-4b48-8b26-4bf9b655613e",
   "metadata": {},
   "source": [
    "### suppression des lignes avec trop  de colonne vide"
   ]
  },
  {
   "cell_type": "code",
   "execution_count": 5,
   "id": "db560296-d9e8-4c37-8313-bcf1d9010e39",
   "metadata": {
    "scrolled": true
   },
   "outputs": [
    {
     "data": {
      "text/plain": [
       "35000    1862\n",
       "34995    1862\n",
       "34990    1862\n",
       "34992    1862\n",
       "34993    1862\n",
       "         ... \n",
       "34924      12\n",
       "34923      12\n",
       "34922      12\n",
       "34894      12\n",
       "34921      12\n",
       "Length: 35001, dtype: int64"
      ]
     },
     "execution_count": 5,
     "metadata": {},
     "output_type": "execute_result"
    }
   ],
   "source": [
    "# nombre de colonne vide par ligne \n",
    "n = df.isna().sum(axis=1).sort_values(ascending=False) \n",
    "n\n"
   ]
  },
  {
   "cell_type": "code",
   "execution_count": 6,
   "id": "c055c81f-5129-4897-8546-256b2888e3f4",
   "metadata": {},
   "outputs": [
    {
     "data": {
      "text/plain": [
       "(34946, 1883)"
      ]
     },
     "execution_count": 6,
     "metadata": {},
     "output_type": "execute_result"
    }
   ],
   "source": [
    "# on vois qu'il y'a des ligne avec trop de colonne vide, nous allons les supprimer\n",
    "df = df.drop(df[df.isna().sum(axis=1) >= 63].index)\n",
    "df.shape\n",
    "# n = df.isna().sum(axis=1).sort_values(ascending=False) \n",
    "# n "
   ]
  },
  {
   "cell_type": "markdown",
   "id": "d678c574-3275-4920-a55c-084463713a92",
   "metadata": {},
   "source": [
    "### suppression des colonnes avec trop de ligne vide"
   ]
  },
  {
   "cell_type": "code",
   "execution_count": 7,
   "id": "cef4c49a-004a-4f10-a0f8-4dfb7423b07b",
   "metadata": {},
   "outputs": [
    {
     "data": {
      "text/plain": [
       "P14_RP_MIBOIS    34851\n",
       "P20_RP_MIDUR     34851\n",
       "P09_RP_BDWC      34851\n",
       "P09_RP_CHOS      34851\n",
       "P09_RP_CLIM      34851\n",
       "                 ...  \n",
       "D68_RP              25\n",
       "DECE6875            25\n",
       "D82_LOG             25\n",
       "D75_LOG             25\n",
       "D68_LOG             25\n",
       "Length: 100, dtype: int64"
      ]
     },
     "execution_count": 7,
     "metadata": {},
     "output_type": "execute_result"
    }
   ],
   "source": [
    "# Detection de nombre de celule vide par colonne \n",
    "n = df.isna().sum(axis=0).sort_values(ascending=False)\n",
    "n.head(100)"
   ]
  },
  {
   "cell_type": "code",
   "execution_count": 8,
   "id": "ecb64e1a-3235-45d0-b3d0-dd4ab583bb17",
   "metadata": {},
   "outputs": [
    {
     "data": {
      "text/plain": [
       "(34946, 1829)"
      ]
     },
     "execution_count": 8,
     "metadata": {},
     "output_type": "execute_result"
    }
   ],
   "source": [
    "# on vois qu'il y'a des variable avec trop ligne avec vide, nous allons les supprimer\n",
    "# recuperation des colonne avec au plus 100 valeur vide\n",
    "col = df.columns[df.isna().sum(axis=0).sort_values(ascending=True) <= 100]\n",
    "df = df.loc[:, col]\n",
    "df.shape\n",
    "\n",
    "### remplissage de nan restant par 0"
   ]
  },
  {
   "cell_type": "code",
   "execution_count": 26,
   "id": "ae2bec82-bb9f-4f7d-babe-6cac5f16e1e4",
   "metadata": {},
   "outputs": [
    {
     "data": {
      "text/plain": [
       "37"
      ]
     },
     "execution_count": 26,
     "metadata": {},
     "output_type": "execute_result"
    }
   ],
   "source": [
    "n = df['D121'].isna().sum(axis=0)#.sort_values(ascending=False)\n",
    "n"
   ]
  },
  {
   "cell_type": "code",
   "execution_count": 10,
   "id": "e1f4da71-eaac-481f-9eb0-263af6d4bdfa",
   "metadata": {},
   "outputs": [],
   "source": [
    "#df = df.fillna(0)"
   ]
  },
  {
   "cell_type": "markdown",
   "id": "1f9f367b-4bfd-4ee4-9984-06fab04704bb",
   "metadata": {
    "jp-MarkdownHeadingCollapsed": true
   },
   "source": [
    "## verification du type des colonnes et transformation si nécessaire"
   ]
  },
  {
   "cell_type": "code",
   "execution_count": 11,
   "id": "bd2cd2a1-82b1-4168-ba2a-a3626410543f",
   "metadata": {},
   "outputs": [
    {
     "data": {
      "text/plain": [
       "float64    1801\n",
       "object       28\n",
       "Name: count, dtype: int64"
      ]
     },
     "execution_count": 11,
     "metadata": {},
     "output_type": "execute_result"
    }
   ],
   "source": [
    "# verification des type des colonnes\n",
    "df.dtypes.value_counts()"
   ]
  },
  {
   "cell_type": "code",
   "execution_count": 12,
   "id": "2856bed7-4d35-41ea-acf9-a3f2214aba69",
   "metadata": {},
   "outputs": [
    {
     "data": {
      "text/html": [
       "<div>\n",
       "<style scoped>\n",
       "    .dataframe tbody tr th:only-of-type {\n",
       "        vertical-align: middle;\n",
       "    }\n",
       "\n",
       "    .dataframe tbody tr th {\n",
       "        vertical-align: top;\n",
       "    }\n",
       "\n",
       "    .dataframe thead th {\n",
       "        text-align: right;\n",
       "    }\n",
       "</style>\n",
       "<table border=\"1\" class=\"dataframe\">\n",
       "  <thead>\n",
       "    <tr style=\"text-align: right;\">\n",
       "      <th></th>\n",
       "      <th>NBMENFISC21</th>\n",
       "      <th>NBPERSMENFISC21</th>\n",
       "      <th>MED21</th>\n",
       "      <th>PIMP21</th>\n",
       "      <th>TP6021</th>\n",
       "      <th>TP60AGE121</th>\n",
       "      <th>TP60AGE221</th>\n",
       "      <th>TP60AGE321</th>\n",
       "      <th>TP60AGE421</th>\n",
       "      <th>TP60AGE521</th>\n",
       "      <th>...</th>\n",
       "      <th>PPEN21</th>\n",
       "      <th>PPAT21</th>\n",
       "      <th>PPSOC21</th>\n",
       "      <th>PPFAM21</th>\n",
       "      <th>PPMINI21</th>\n",
       "      <th>PPLOGT21</th>\n",
       "      <th>PIMPOT21</th>\n",
       "      <th>D121</th>\n",
       "      <th>D921</th>\n",
       "      <th>RD21</th>\n",
       "    </tr>\n",
       "  </thead>\n",
       "  <tbody>\n",
       "    <tr>\n",
       "      <th>0</th>\n",
       "      <td>346</td>\n",
       "      <td>895</td>\n",
       "      <td>25820</td>\n",
       "      <td>s</td>\n",
       "      <td>s</td>\n",
       "      <td>s</td>\n",
       "      <td>s</td>\n",
       "      <td>s</td>\n",
       "      <td>s</td>\n",
       "      <td>s</td>\n",
       "      <td>...</td>\n",
       "      <td>s</td>\n",
       "      <td>s</td>\n",
       "      <td>s</td>\n",
       "      <td>s</td>\n",
       "      <td>s</td>\n",
       "      <td>s</td>\n",
       "      <td>s</td>\n",
       "      <td>s</td>\n",
       "      <td>s</td>\n",
       "      <td>s</td>\n",
       "    </tr>\n",
       "    <tr>\n",
       "      <th>1</th>\n",
       "      <td>115</td>\n",
       "      <td>266</td>\n",
       "      <td>24480</td>\n",
       "      <td>s</td>\n",
       "      <td>s</td>\n",
       "      <td>s</td>\n",
       "      <td>s</td>\n",
       "      <td>s</td>\n",
       "      <td>s</td>\n",
       "      <td>s</td>\n",
       "      <td>...</td>\n",
       "      <td>s</td>\n",
       "      <td>s</td>\n",
       "      <td>s</td>\n",
       "      <td>s</td>\n",
       "      <td>s</td>\n",
       "      <td>s</td>\n",
       "      <td>s</td>\n",
       "      <td>s</td>\n",
       "      <td>s</td>\n",
       "      <td>s</td>\n",
       "    </tr>\n",
       "    <tr>\n",
       "      <th>2</th>\n",
       "      <td>6855</td>\n",
       "      <td>15092</td>\n",
       "      <td>21660</td>\n",
       "      <td>50,0</td>\n",
       "      <td>17,0</td>\n",
       "      <td>17,0</td>\n",
       "      <td>22,0</td>\n",
       "      <td>19,0</td>\n",
       "      <td>16,0</td>\n",
       "      <td>11,0</td>\n",
       "      <td>...</td>\n",
       "      <td>25,3</td>\n",
       "      <td>10,2</td>\n",
       "      <td>7,0</td>\n",
       "      <td>2,6</td>\n",
       "      <td>3,0</td>\n",
       "      <td>1,4</td>\n",
       "      <td>-14,8</td>\n",
       "      <td>11890</td>\n",
       "      <td>36450</td>\n",
       "      <td>3,1</td>\n",
       "    </tr>\n",
       "    <tr>\n",
       "      <th>3</th>\n",
       "      <td>800</td>\n",
       "      <td>2028</td>\n",
       "      <td>24610</td>\n",
       "      <td>61,0</td>\n",
       "      <td>s</td>\n",
       "      <td>s</td>\n",
       "      <td>s</td>\n",
       "      <td>s</td>\n",
       "      <td>s</td>\n",
       "      <td>s</td>\n",
       "      <td>...</td>\n",
       "      <td>21,4</td>\n",
       "      <td>10,0</td>\n",
       "      <td>3,4</td>\n",
       "      <td>2,1</td>\n",
       "      <td>0,9</td>\n",
       "      <td>0,4</td>\n",
       "      <td>-16,3</td>\n",
       "      <td>15560</td>\n",
       "      <td>40580</td>\n",
       "      <td>2,6</td>\n",
       "    </tr>\n",
       "    <tr>\n",
       "      <th>4</th>\n",
       "      <td>51</td>\n",
       "      <td>107</td>\n",
       "      <td>24210</td>\n",
       "      <td>s</td>\n",
       "      <td>s</td>\n",
       "      <td>s</td>\n",
       "      <td>s</td>\n",
       "      <td>s</td>\n",
       "      <td>s</td>\n",
       "      <td>s</td>\n",
       "      <td>...</td>\n",
       "      <td>s</td>\n",
       "      <td>s</td>\n",
       "      <td>s</td>\n",
       "      <td>s</td>\n",
       "      <td>s</td>\n",
       "      <td>s</td>\n",
       "      <td>s</td>\n",
       "      <td>s</td>\n",
       "      <td>s</td>\n",
       "      <td>s</td>\n",
       "    </tr>\n",
       "  </tbody>\n",
       "</table>\n",
       "<p>5 rows × 27 columns</p>\n",
       "</div>"
      ],
      "text/plain": [
       "  NBMENFISC21 NBPERSMENFISC21  MED21 PIMP21 TP6021 TP60AGE121 TP60AGE221  \\\n",
       "0         346             895  25820      s      s          s          s   \n",
       "1         115             266  24480      s      s          s          s   \n",
       "2        6855           15092  21660   50,0   17,0       17,0       22,0   \n",
       "3         800            2028  24610   61,0      s          s          s   \n",
       "4          51             107  24210      s      s          s          s   \n",
       "\n",
       "  TP60AGE321 TP60AGE421 TP60AGE521  ... PPEN21 PPAT21 PPSOC21 PPFAM21  \\\n",
       "0          s          s          s  ...      s      s       s       s   \n",
       "1          s          s          s  ...      s      s       s       s   \n",
       "2       19,0       16,0       11,0  ...   25,3   10,2     7,0     2,6   \n",
       "3          s          s          s  ...   21,4   10,0     3,4     2,1   \n",
       "4          s          s          s  ...      s      s       s       s   \n",
       "\n",
       "  PPMINI21 PPLOGT21 PIMPOT21   D121   D921 RD21  \n",
       "0        s        s        s      s      s    s  \n",
       "1        s        s        s      s      s    s  \n",
       "2      3,0      1,4    -14,8  11890  36450  3,1  \n",
       "3      0,9      0,4    -16,3  15560  40580  2,6  \n",
       "4        s        s        s      s      s    s  \n",
       "\n",
       "[5 rows x 27 columns]"
      ]
     },
     "execution_count": 12,
     "metadata": {},
     "output_type": "execute_result"
    }
   ],
   "source": [
    "# recuperation des champs object sans codgeo \n",
    "object_columns = list(df.select_dtypes(include=['object']).columns)\n",
    "object_columns.remove('CODGEO')\n",
    "df_object = df[object_columns]\n",
    "\n",
    "df_object.head()"
   ]
  },
  {
   "cell_type": "code",
   "execution_count": 13,
   "id": "961d0607-1abd-434a-9633-cecad486b6b1",
   "metadata": {},
   "outputs": [],
   "source": [
    "#fonction pour convertir les chaine en nombre\n",
    "def trans_str_in_float(val):\n",
    "    \"\"\"\n",
    "    essaie de convertir val en float : \n",
    "        si ca echoue alors c'est du texte, donc on retourn 0\n",
    "        sinon on retourne val\n",
    "    param : \n",
    "        val (str or int or float)\n",
    "    return : \n",
    "        val or 0 (foat)\n",
    "    ex : \n",
    "    >>> trans_str_in_float('3.5')\n",
    "    3.5\n",
    "    >>> trans_str_in_float('popp')\n",
    "    0\n",
    "    \"\"\"\n",
    "    try : \n",
    "        nb = float(val)\n",
    "        return nb\n",
    "    except : \n",
    "        return 0"
   ]
  },
  {
   "cell_type": "code",
   "execution_count": 14,
   "id": "b2b4eeac-2e05-4445-9225-fb6d83209c0f",
   "metadata": {
    "scrolled": true
   },
   "outputs": [],
   "source": [
    "# SUPPRESSION DES VIRGULE DANS LES CHAMPS\n",
    "# TRANSFORMATION DES NOMBRE EN FLOAT ET DES STR EN 0 \n",
    "for i in object_columns: \n",
    "    try :\n",
    "        df_object[i] = df_object[i].str.replace(\",\", \".\")\n",
    "    except :\n",
    "        pass\n",
    "        \n",
    "    df_object[i] = df_object[i].map(trans_str_in_float)\n",
    "\n"
   ]
  },
  {
   "cell_type": "code",
   "execution_count": 15,
   "id": "3e8bdb41-4332-41d8-9fa3-bc8408992e41",
   "metadata": {},
   "outputs": [],
   "source": [
    "# ENREGISTREMENT DES MODIFICATION DAN df \n",
    "df[object_columns] = df_object"
   ]
  },
  {
   "cell_type": "code",
   "execution_count": 16,
   "id": "40c72b0a-2c44-4266-9efa-7b1e86f1a015",
   "metadata": {},
   "outputs": [
    {
     "data": {
      "text/plain": [
       "float64    1828\n",
       "object        1\n",
       "Name: count, dtype: int64"
      ]
     },
     "execution_count": 16,
     "metadata": {},
     "output_type": "execute_result"
    }
   ],
   "source": [
    "# verification des type encore\n",
    "df.dtypes.value_counts()"
   ]
  },
  {
   "cell_type": "markdown",
   "id": "7bb42fac-233d-4481-a99e-99e66ac15688",
   "metadata": {},
   "source": [
    "# regroupement de donnée"
   ]
  },
  {
   "cell_type": "markdown",
   "id": "7d864b31-5c53-43b2-af6c-5e38de98e412",
   "metadata": {},
   "source": [
    "## creation de nouvelle colonne departement"
   ]
  },
  {
   "cell_type": "code",
   "execution_count": 17,
   "id": "c8fabbe2-00e9-498f-b308-a7582ae967dc",
   "metadata": {},
   "outputs": [],
   "source": [
    "#creation fonction pour recuperer le departemet\n",
    "def get_departement(codegeo):\n",
    "    \"\"\"\n",
    "    cette fonction permet de recuperer les deux premier caractere de CODGEO\n",
    "    et retourn le code du department\n",
    "    params : \n",
    "        codegeo [str] : code de la ville ou commune\n",
    "    return \n",
    "        dep[str] : code du departement associer\n",
    "    ex : \n",
    "    >>>get_departement('1001')\n",
    "    01\n",
    "    >>>get_departement('75094')\n",
    "    75\n",
    "    \"\"\"\n",
    "    codegeo = str(codegeo)\n",
    "    code = [\"0\"] * (5 - len(codegeo)) + list(codegeo)\n",
    "    return \"\".join(code[0:2])\n"
   ]
  },
  {
   "cell_type": "code",
   "execution_count": 18,
   "id": "41e5dad4-0142-46e9-b770-9322c46c6894",
   "metadata": {},
   "outputs": [
    {
     "name": "stdout",
     "output_type": "stream",
     "text": [
      "fonction get_departement : OK !\n"
     ]
    }
   ],
   "source": [
    "# fonction pour tester notre fonction get_departement\n",
    "def test_get_departement():\n",
    "    assert get_departement('09646') == '09'\n",
    "    assert get_departement('1646') == '01'\n",
    "    assert get_departement('75646') == '75'\n",
    "    print(\"fonction get_departement : OK !\")\n",
    "\n",
    "# test de notre fonction\n",
    "test_get_departement()"
   ]
  },
  {
   "cell_type": "code",
   "execution_count": 19,
   "id": "f7929067-38e4-4be2-b23a-55731992ea53",
   "metadata": {},
   "outputs": [],
   "source": [
    "#parcours de CODGEO pour creer une nouvel colonne 'dep' qui contient le numero du departement\n",
    "df[\"DEPARTEMENT\"] = df[\"CODGEO\"].map(get_departement)"
   ]
  },
  {
   "cell_type": "code",
   "execution_count": 20,
   "id": "f6376b21-4aaf-413c-8843-cca59e4bb8ab",
   "metadata": {},
   "outputs": [
    {
     "data": {
      "text/plain": [
       "(34946, 1830)"
      ]
     },
     "execution_count": 20,
     "metadata": {},
     "output_type": "execute_result"
    }
   ],
   "source": [
    "df.shape"
   ]
  },
  {
   "cell_type": "markdown",
   "id": "600b40c5-52ce-41c2-a3d0-2e500503f011",
   "metadata": {},
   "source": [
    "# recuperation des ville avec plus de 1000 habitant en 2020"
   ]
  },
  {
   "cell_type": "code",
   "execution_count": 21,
   "id": "9b5acd12-9294-4ebc-8a2c-15d272d24fea",
   "metadata": {},
   "outputs": [],
   "source": [
    "data  = df.copy()"
   ]
  },
  {
   "cell_type": "code",
   "execution_count": 22,
   "id": "6fc4019f-db5b-476d-9ab5-9f8e57c28d58",
   "metadata": {},
   "outputs": [],
   "source": [
    "data = data[data['P20_POP'] >= 1000]\n",
    "data.to_csv('data_net_5000.csv')"
   ]
  }
 ],
 "metadata": {
  "kernelspec": {
   "display_name": "Python 3 (ipykernel)",
   "language": "python",
   "name": "python3"
  },
  "language_info": {
   "codemirror_mode": {
    "name": "ipython",
    "version": 3
   },
   "file_extension": ".py",
   "mimetype": "text/x-python",
   "name": "python",
   "nbconvert_exporter": "python",
   "pygments_lexer": "ipython3",
   "version": "3.12.3"
  }
 },
 "nbformat": 4,
 "nbformat_minor": 5
}
